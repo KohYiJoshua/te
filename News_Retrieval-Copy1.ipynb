{
 "cells": [
  {
   "cell_type": "code",
   "execution_count": 112,
   "id": "060badf9",
   "metadata": {},
   "outputs": [],
   "source": [
    "import numpy as np\n",
    "import pandas as pd\n",
    "import json\n",
    "import voila\n",
    "import http.client, urllib.parse"
   ]
  },
  {
   "cell_type": "code",
   "execution_count": 57,
   "id": "4a3ff1b6",
   "metadata": {},
   "outputs": [
    {
     "name": "stdout",
     "output_type": "stream",
     "text": [
      "Today's date: 2022-11-05\n"
     ]
    }
   ],
   "source": [
    "from datetime import date\n",
    "\n",
    "today = date.today()\n",
    "print(\"Today's date:\", today)"
   ]
  },
  {
   "cell_type": "code",
   "execution_count": 113,
   "id": "1654024a",
   "metadata": {},
   "outputs": [
    {
     "name": "stderr",
     "output_type": "stream",
     "text": [
      "Enabling: voila\n",
      "- Writing config: C:\\Users\\user\\anaconda3\\etc\\jupyter\n",
      "    - Validating...\n",
      "      voila 0.4.0 ok\n"
     ]
    }
   ],
   "source": [
    "!jupyter serverextension enable voila --sys-prefix"
   ]
  },
  {
   "cell_type": "code",
   "execution_count": 59,
   "id": "ba7f6d6b",
   "metadata": {},
   "outputs": [],
   "source": [
    "# for x in dict_data['data']:\n",
    "#     df = pd.DataFrame.from_dict(x, orient='index',\n",
    "#                        columns=['author', 'title', 'description', 'url','source','image','category','language','country','published_at'])"
   ]
  },
  {
   "cell_type": "code",
   "execution_count": 60,
   "id": "f7f3e975",
   "metadata": {},
   "outputs": [],
   "source": [
    "import warnings\n",
    "warnings.filterwarnings('ignore')\n",
    "\n",
    "import ipywidgets as widgets\n",
    "from IPython.display import display, clear_output"
   ]
  },
  {
   "cell_type": "code",
   "execution_count": 61,
   "id": "d9bd4800",
   "metadata": {},
   "outputs": [],
   "source": [
    "# Image Widget\n",
    "\n",
    "file = open(\"download.png\", \"rb\")\n",
    "image = file.read()\n",
    "\n",
    "image_headline = widgets.Image(\n",
    "                    value=image,\n",
    "                    format='jpg',\n",
    "                    width='300'\n",
    "                )\n",
    "\n",
    "label_headline = widgets.Label(\n",
    "                    value='Image by Iconka',\n",
    "                    style={'description_width': 'initial'}\n",
    "                )\n",
    "\n",
    "vbox_headline = widgets.VBox([image_headline, label_headline])"
   ]
  },
  {
   "cell_type": "code",
   "execution_count": 62,
   "id": "4c44c13d",
   "metadata": {},
   "outputs": [
    {
     "data": {
      "application/vnd.jupyter.widget-view+json": {
       "model_id": "1346f306321f42648882d0a13e0f68e1",
       "version_major": 2,
       "version_minor": 0
      },
      "text/plain": [
       "VBox(children=(Image(value=b'\\x89PNG\\r\\n\\x1a\\n\\x00\\x00\\x00\\rIHDR\\x00\\x00\\x00\\xe1\\x00\\x00\\x00\\xe1\\x08\\x03\\x00\\x…"
      ]
     },
     "metadata": {},
     "output_type": "display_data"
    }
   ],
   "source": [
    "vbox_headline"
   ]
  },
  {
   "cell_type": "code",
   "execution_count": 63,
   "id": "009b1b2e",
   "metadata": {},
   "outputs": [],
   "source": [
    "# news source\n",
    "\n",
    "source = widgets.Dropdown(\n",
    "    options=[('General',''),('BBC', 'bbc'), ('CNN', 'cnn'), ('ESPN', 'espn')],\n",
    "    value='',\n",
    "    description='Source:',\n",
    ")"
   ]
  },
  {
   "cell_type": "code",
   "execution_count": 64,
   "id": "4401e741",
   "metadata": {},
   "outputs": [],
   "source": [
    "# category\n",
    "\n",
    "category = widgets.Dropdown(\n",
    "    options=[('General', 'general'), ('Business', 'business'),('Entertainment','entertainment'),('Health', 'health'),('Science','science'),('Technology','technology')],\n",
    "    value='general',\n",
    "    description='Category:',\n",
    ")"
   ]
  },
  {
   "cell_type": "code",
   "execution_count": 65,
   "id": "935c52e9",
   "metadata": {},
   "outputs": [],
   "source": [
    "fill = widgets.Text(\n",
    "    value='',\n",
    "    placeholder='Enter Keyword(s)',\n",
    "    description='Keyword:',\n",
    "    disabled=False\n",
    ")"
   ]
  },
  {
   "cell_type": "code",
   "execution_count": 66,
   "id": "2283082c",
   "metadata": {},
   "outputs": [],
   "source": [
    "#Date picker\n",
    "\n",
    "date_start = widgets.DatePicker(value = today, description='Pick a Start')\n",
    "date_end = widgets.DatePicker(value = today,description='Pick an End')"
   ]
  },
  {
   "cell_type": "code",
   "execution_count": 67,
   "id": "7d440210",
   "metadata": {},
   "outputs": [],
   "source": [
    "button_send = widgets.Button(\n",
    "                description='Confirm',\n",
    "                tooltip='Send',\n",
    "                style={'description_width': 'initial'}\n",
    "            )\n",
    "\n",
    "output = widgets.Output()\n",
    "\n",
    "def on_button_clicked(event):\n",
    "    with output:\n",
    "        clear_output()\n",
    "        print(\"Loading...\")\n",
    "        print(\"Fetching\" ,category.value, \"news from\", source.value, \"with\",fill.value, \"as a keyword from\", date_start.value,\"to\",date_end.value)\n",
    "\n",
    "button_send.on_click(on_button_clicked)\n",
    "\n",
    "vbox_result = widgets.VBox([button_send, output])"
   ]
  },
  {
   "cell_type": "code",
   "execution_count": 68,
   "id": "a8a9e5e2",
   "metadata": {},
   "outputs": [],
   "source": [
    "vbox_text = widgets.VBox([source, category, fill, date_start, date_end, vbox_result])"
   ]
  },
  {
   "cell_type": "code",
   "execution_count": 69,
   "id": "898944f4",
   "metadata": {},
   "outputs": [
    {
     "data": {
      "application/vnd.jupyter.widget-view+json": {
       "model_id": "be2b25c9eae044f190ac729ff3fdaad8",
       "version_major": 2,
       "version_minor": 0
      },
      "text/plain": [
       "HBox(children=(VBox(children=(Image(value=b'\\x89PNG\\r\\n\\x1a\\n\\x00\\x00\\x00\\rIHDR\\x00\\x00\\x00\\xe1\\x00\\x00\\x00\\xe…"
      ]
     },
     "metadata": {},
     "output_type": "display_data"
    }
   ],
   "source": [
    "page = widgets.HBox([vbox_headline, vbox_text])\n",
    "display(page)"
   ]
  },
  {
   "cell_type": "code",
   "execution_count": 101,
   "id": "52e13122",
   "metadata": {},
   "outputs": [],
   "source": [
    "temp_start = date_start.value.strftime('%Y-%m-%d')\n",
    "temp_end = date_end.value.strftime('%Y-%m-%d')\n",
    "parsed_date = temp_start +','+temp_end"
   ]
  },
  {
   "cell_type": "code",
   "execution_count": 102,
   "id": "7f2b30c2",
   "metadata": {},
   "outputs": [
    {
     "data": {
      "text/plain": [
       "'2022-11-01,2022-11-02'"
      ]
     },
     "execution_count": 102,
     "metadata": {},
     "output_type": "execute_result"
    }
   ],
   "source": [
    "parsed_date"
   ]
  },
  {
   "cell_type": "code",
   "execution_count": 105,
   "id": "a707df98",
   "metadata": {},
   "outputs": [
    {
     "name": "stdout",
     "output_type": "stream",
     "text": [
      "{\"pagination\":{\"limit\":100,\"offset\":0,\"count\":100,\"total\":10000},\"data\":[{\"author\":\"The Canadian Press\",\"title\":\"Three Chinese companies ordered to divest as Ottawa moves to protect critical mineral industry\",\"description\":\"Canada and its allies are desperately trying to upend China\\u0027s dominance in the field and create a more stable and reliable supply chain\",\"url\":\"https:\\/\\/nationalpost.com\\/news\\/politics\\/federal-government-moves-to-cut-china-out-of-canadian-critical-mineral-industry\",\"source\":\"nationalpost\",\"image\":null,\"category\":\"general\",\"language\":\"en\",\"country\":\"us\",\"published_at\":\"2022-11-02T23:59:17+00:00\"},{\"author\":\"newsfeeds@nzherald.co.nz\",\"title\":\"M\\u0026#257;ori communities criticise lack of consultation in report on areas at risk of flooding\",\"description\":\"M\\u0026#257;ori communities are worried the government\\u0027s climate planning could override their own work and rangatiratanga.A government report has for the first time identified 44 unprepared communities at serious risk of flooding. Ministers...\",\"url\":\"https:\\/\\/www.nzherald.co.nz\\/nz\\/news\\/article.cfm?c_id=1\\u0026objectid=12567353\\u0026ref=rss\",\"source\":\"NZ Herald\",\"image\":\"https:\\/\\/media.nzherald.co.nz\\/webcontent\\/image\\/jpg\\/202245\\/FLOOD_70x70.jpg?media_subtype_id=16|caption=Flooding hits small rural communities hard. Photo \\/ NZME\",\"category\":\"general\",\"language\":\"en\",\"country\":\"nz\",\"published_at\":\"2022-11-02T23:59:17+00:00\"},{\"author\":\"The Associated Press\",\"title\":\"Michigan man gets 70 to 100 years for hammer murders\",\"description\":\"LANSING, Mich. (AP) \\u0026#8212; A man charged in the hammer killings of two women after he showed cellphone photos of their beaten bodies to sheriff\\u0026#8217;s deputies during a traffic stop was sentenced Wednesday to 70 to100 years in prison. Kiernan Brown, 30, of Delta Township, was sentenced in Ingham County after pleading guilty but mentally [\\u0026#8230;]\",\"url\":\"https:\\/\\/nationalpost.com\\/pmn\\/news-pmn\\/michigan-man-gets-70-to-100-years-for-hammer-murders\",\"source\":\"nationalpost\",\"image\":null,\"category\":\"general\",\"language\":\"en\",\"country\":\"us\",\"published_at\":\"2022-11-02T23:59:11+00:00\"},{\"author\":null,\"title\":\"San Diego sax great Anthony Ortega, dead at 94, played with them all, from Julie Andrews to Frank Zappa\",\"description\":\"The Encinitas resident was the subject of the 1994 book \\u0027Central Avenue Sounds: Anthony Ortega\\u0027 and 2007 film documentary \\u0027The Street We Took\\u0027\",\"url\":\"https:\\/\\/www.sandiegouniontribune.com\\/entertainment\\/music\\/story\\/2022-11-02\\/san-diego-sax-great-anthony-ortega-dead-at-94-played-with-them-all-from-julie-andrews-to-frank-zappa\",\"source\":\"signonsandiego\",\"image\":null,\"category\":\"general\",\"language\":\"en\",\"country\":\"us\",\"published_at\":\"2022-11-02T23:59:08+00:00\"},{\"author\":null,\"title\":\"Estas son todas las propuestas iberoamericanas del AFI Fest\",\"description\":\"\\u2018Bardo\\u2019 encabeza el atractivo cartel latino de la edici\\u00f3n 2022 del AFI Fest\",\"url\":\"https:\\/\\/www.latimes.com\\/espanol\\/entretenimiento\\/articulo\\/2022-11-02\\/estas-son-todas-las-propuestas-iberoamericanas-del-afi-fest\",\"source\":\"latimes\",\"image\":null,\"category\":\"general\",\"language\":\"en\",\"country\":\"us\",\"published_at\":\"2022-11-02T23:59:04+00:00\"},{\"author\":null,\"title\":\"Arabs Tend To Get The Blame When Things Go Wrong In America \\u2013 OpEd\",\"description\":\"Since the OPEC+ group of nations announced last month that it would reduce oil production by 2 million barrels per day, there has been a rise in anti-Arab sentiment and anger in the US. At nearly every level in the country, Saudi Arabia is being blamed for \\u201csiding with Russia\\u201d by forcing oil prices to rise.In an attempt to help the sagging popularity of his Democratic Party in the final weeks before the Nov. 8 midterm elections, President Joe Biden accused the Saudis of reducing production in cooperation with Moscow. The reduction in oil production slated for this month is also being blamed...\",\"url\":\"https:\\/\\/api.follow.it\\/track-rss-story-click\\/v3\\/Qw9d99ManWeezLKeNjhjmOm6srrLMsqK\",\"source\":\"eurasiareview\",\"image\":null,\"category\":\"general\",\"language\":\"en\",\"country\":\"us\",\"published_at\":\"2022-11-02T23:58:47+00:00\"},{\"author\":\"Reuters\",\"title\":\"Brazil\\u2019s Bolsonaro urges protesters to lift road blockades\",\"description\":\"SAO PAULO \\u0026#8212; Brazilian President Jair Bolsonaro for the first time on Wednesday asked protesters blocking roads nationwide to lift blockades as demonstrations are restricting people\\u0026#8217;s right to come and go and bringing losses to the economy. Protests erupted on Sunday after Bolsonaro\\u0026#8217;s narrow loss to leftist Luiz Inacio Lula da Silva in an Oct. [\\u0026#8230;]\",\"url\":\"https:\\/\\/nationalpost.com\\/pmn\\/news-pmn\\/brazils-bolsonaro-urges-protesters-to-lift-road-blockades\",\"source\":\"nationalpost\",\"image\":null,\"category\":\"general\",\"language\":\"en\",\"country\":\"us\",\"published_at\":\"2022-11-02T23:58:29+00:00\"},{\"author\":\"Zach Williams\",\"title\":\"Businesses with big NY interests throw cash at Kathy Hochul in final days of tight NY gov race\",\"description\":\"Democratic Gov. Kathy Hochul is raising big bucks from business interests in the final days of her race against GOP Rep. Lee Zeldin.\",\"url\":\"https:\\/\\/nypost.com\\/2022\\/11\\/02\\/businesses-with-big-ny-interests-throw-cash-at-kathy-hochul-in-final-days-of-tight-ny-gov-race\\/\",\"source\":\"Post\",\"image\":\"https:\\/\\/nypost.com\\/wp-content\\/uploads\\/sites\\/2\\/2022\\/11\\/hochul-1.jpg?quality=90\\u0026strip=all\",\"category\":\"general\",\"language\":\"en\",\"country\":\"zm\",\"published_at\":\"2022-11-02T23:58:22+00:00\"},{\"author\":\"Mary\",\"title\":\"Allison Langdon Tipped To Take Over Grimshaw\\u2019s Gloriously ACA Reign\",\"description\":\"Today\\u0026#8216;s Allison Langdon is tipped to be the front-runner to replace Tracy Grimshaw on A Current Affair \\u0026#8211; so ...\",\"url\":\"https:\\/\\/www.bandt.com.au\\/allison-langdon-tipped-to-take-over-grimshaws-gloriously-aca-reign\\/\",\"source\":\"bandt\",\"image\":\"https:\\/\\/www.bandt.com.au\\/information\\/uploads\\/2022\\/11\\/Screen-Shot-2022-11-03-at-11.01.59-am-e1667433388724-230x153.png\",\"category\":\"general\",\"language\":\"en\",\"country\":\"au\",\"published_at\":\"2022-11-02T23:58:17+00:00\"},{\"author\":\"Nick\",\"title\":\"Powell: Rate hikes may slow, but inflation fight hardly over\",\"description\":\"WASHINGTON (AP) \\u2014 Federal Reserve Chair Jerome Powell sought Wednesday to strike a delicate balance at a moment when high inflation is bedeviling the nation\\u2019s economy and commanding a central role\",\"url\":\"https:\\/\\/www.sanmarcosrecord.com\\/news\\/powell-rate-hikes-may-slow-inflation-fight-hardly-over\",\"source\":\"sanmarcosrecord\",\"image\":null,\"category\":\"general\",\"language\":\"en\",\"country\":\"us\",\"published_at\":\"2022-11-02T23:58:09+00:00\"},{\"author\":\"Pat Rooney\",\"title\":\"Jaylyn Sherrod, Kindyll Wetta a dynamic backcourt duo for Colorado women\\u2019s basketball\",\"description\":\"Jaylyn Sherrod is the point guard and one of the unquestioned leaders of the Colorado women\\u2019s basketball team. Kindyll Wetta already is one of the top backcourt defenders in the Pac-12 Conference and a player the Buffaloes are counting on for continued growth, even as she frequently spells Sherrod at the point. Together, they already [\\u0026#8230;]\",\"url\":\"https:\\/\\/www.dailycamera.com\\/2022\\/11\\/02\\/jaylyn-sherrod-kindyll-wetta-a-dynamic-backcourt-duo-for-colorado-womens-basketball\\/\",\"source\":\"dailycamera\",\"image\":\"https:\\/\\/www.dailycamera.com\\/wp-content\\/uploads\\/2022\\/11\\/BUF-L-CUWWashst86.jpg?w=1400px\\u0026strip=all\",\"category\":\"general\",\"language\":\"en\",\"country\":\"us\",\"published_at\":\"2022-11-02T23:57:58+00:00\"},{\"author\":null,\"title\":\"Palestinians Fear Escalation Of Violence As Netanyahu Closes In On Victory\",\"description\":\"By Mohammed NajibThe prospect of Benjamin Netanyahu returning to power as head of one of the most right-wing coalitions in Israeli history has prompted concern among Palestinians who fear it could be a prelude to an escalation of their conflict with Israel.More than 100 Palestinians from the Israeli-occupied West Bank have been killed by Israeli forces this year.Palestinian Prime Minister Mohammad Shtayyeh said the rise of right-wing parties was \\u201ca natural result of the growing extremism and racism in Israeli society, which the Palestinians have been suffering from for years.\\u201dBut...\",\"url\":\"https:\\/\\/api.follow.it\\/track-rss-story-click\\/v3\\/Qw9d99ManWeezLKeNjhjmC3FFO_xyF25\",\"source\":\"eurasiareview\",\"image\":null,\"category\":\"general\",\"language\":\"en\",\"country\":\"us\",\"published_at\":\"2022-11-02T23:57:56+00:00\"},{\"author\":\"KTVZ news sources\",\"title\":\"OHA offers loan program for Oregon behavioral health workers\",\"description\":\"The Oregon Health Authority is seeking applications from behavioral health care workers who qualify under the Oregon Behavioral Health Loan Repayment program.The post OHA offers loan program for Oregon behavioral health workers appeared first on KTVZ.\",\"url\":\"https:\\/\\/ktvz.com\\/community\\/community-billboard\\/2022\\/11\\/02\\/oha-offers-loan-program-for-oregon-behavioral-health-workers\\/\",\"source\":\"ktvz\",\"image\":null,\"category\":\"general\",\"language\":\"en\",\"country\":\"us\",\"published_at\":\"2022-11-02T23:57:41+00:00\"},{\"author\":\"Nick\",\"title\":\"UN Security Council denies Russia call for bio weapons probe\",\"description\":\"UNITED NATIONS (AP) \\u2014 The U.N.\",\"url\":\"https:\\/\\/www.sanmarcosrecord.com\\/news\\/un-security-council-denies-russia-call-bio-weapons-probe\",\"source\":\"sanmarcosrecord\",\"image\":null,\"category\":\"general\",\"language\":\"en\",\"country\":\"us\",\"published_at\":\"2022-11-02T23:57:40+00:00\"},{\"author\":\"B\\u0026T Magazine\",\"title\":\"Qantas Heads List Of Brands On CHOICE\\u2019s Annual Shonky Awards\",\"description\":\"It\\u0026#8217;s the award no brand ever wants to win, but here we are again to give out the gongs for the 17th annual CHOICE ...\",\"url\":\"https:\\/\\/www.bandt.com.au\\/qantas-heads-list-of-brands-on-choices-annual-shonky-awards\\/\",\"source\":\"bandt\",\"image\":\"https:\\/\\/www.bandt.com.au\\/information\\/uploads\\/2022\\/11\\/Screen-Shot-2022-11-03-at-10.55.47-am-230x153.png\",\"category\":\"general\",\"language\":\"en\",\"country\":\"au\",\"published_at\":\"2022-11-02T23:57:36+00:00\"},{\"author\":null,\"title\":\"North Korea fires ballistic missile over Japan; residents told to shelter\",\"description\":\"North Korea fired a ballistic missile on Thursday that flew over Japanese territory, according to alerts in Japan, the second test flight in a month to fly over\\u2026\",\"url\":\"https:\\/\\/japantoday.com\\/category\\/national\\/north-korea-fires-ballistic-missile-over-japan-residents-told-to-shelter\",\"source\":\"japantoday\",\"image\":null,\"category\":\"general\",\"language\":\"en\",\"country\":\"us\",\"published_at\":\"2022-11-02T23:57:20+00:00\"},{\"author\":\"Keagan Stiefel\",\"title\":\"Kyrie Irving Walks Back Anti-Semitic Posts In Statement, To Make Donation\",\"description\":\"Brooklyn Nets guard Kyrie Irving has become a agent of chaos in recent years, choosing to do and say things that will draw a reaction out of the masses. But it looks as though even Irving realized he went too far this time around. Irving recently shared a link to his Twitter and Instagram pages\\u00a0promoting [\\u0026#8230;]The post Kyrie Irving Walks Back Anti-Semitic Posts In Statement, To Make Donation appeared first on NESN.com.\",\"url\":\"https:\\/\\/nesn.com\\/2022\\/11\\/kyrie-irving-walks-back-anti-semitic-posts-in-statement-to-make-donation\\/\",\"source\":\"nesn\",\"image\":\"https:\\/\\/nesn.com\\/wp-content\\/uploads\\/sites\\/5\\/2022\\/11\\/Kyrie-Irving-2-1.jpg\",\"category\":\"general\",\"language\":\"en\",\"country\":\"us\",\"published_at\":\"2022-11-02T23:57:16+00:00\"},{\"author\":\"News Team\",\"title\":\"Alaska Airlines suspends service between Idaho Falls and Boise\",\"description\":\"Alaska Airlines is suspending service between the Idaho Falls Regional Airport and Boise.The post Alaska Airlines suspends service between Idaho Falls and Boise appeared first on Local News 8.\",\"url\":\"https:\\/\\/localnews8.com\\/news\\/idaho-falls\\/2022\\/11\\/02\\/alaska-airlines-suspends-service-between-idaho-falls-and-boise\\/\",\"source\":\"localnews8\",\"image\":null,\"category\":\"general\",\"language\":\"en\",\"country\":\"us\",\"published_at\":\"2022-11-02T23:57:03+00:00\"},{\"author\":\"The Canadian Press\",\"title\":\"North Korea continues missile barrage with test over Japan (World)\",\"description\":\"Japan says missiles fired by North Korea flew over northern Japan on Thursday, the latest in a series of weapons tests that have raised tensions in the region. The announcement by Japan\\u0026rsquo;s Prime Minister\\u0026rsquo;s Office came shortly after South Korea\\u0026rsquo;s military said it detected North Korea...\",\"url\":\"https:\\/\\/www.castanet.net\\/news\\/World\\/394162\\/North-Korea-continues-missile-barrage-with-test-over-Japan\",\"source\":\"Castanet\",\"image\":\"https:\\/\\/www.castanet.net\\/content\\/2022\\/11\\/2022110219114-6362f793821cf083b81dac7cjpeg_p3632846.jpg\",\"category\":\"general\",\"language\":\"en\",\"country\":\"us\",\"published_at\":\"2022-11-02T23:57:00+00:00\"},{\"author\":\"Gio Rivera\",\"title\":\"Ex-Red Sox Believes Astros Starter Was Tipping Pitches In World Series\",\"description\":\"Game 3 of the World Series wasn\\u0026#8217;t just bad, but historically bad for Houston Astros right-handed starter Lance McCullers Jr. which led to a 7-0 cakewalk Philadelphia Phillies victory, putting them ahead 2-1 in the series. Following the matchup, all talk surrounded McCullers and the speculation that the Phillies rally was due in large part [\\u0026#8230;]The post Ex-Red Sox Believes Astros Starter Was Tipping Pitches In World Series appeared first on NESN.com.\",\"url\":\"https:\\/\\/nesn.com\\/2022\\/11\\/ex-red-sox-believes-astros-starter-was-tipping-pitches-in-world-series\\/\",\"source\":\"nesn\",\"image\":\"https:\\/\\/nesn.com\\/wp-content\\/uploads\\/sites\\/5\\/2022\\/11\\/Lance-McCullers-Jr..jpg\",\"category\":\"general\",\"language\":\"en\",\"country\":\"us\",\"published_at\":\"2022-11-02T23:56:56+00:00\"},{\"author\":\"Nick\",\"title\":\"Pilot union rejects American Airlines offer, seeks more pay\",\"description\":\"DALLAS (AP) \\u2014 U.S.\",\"url\":\"https:\\/\\/www.sanmarcosrecord.com\\/news\\/pilot-union-rejects-american-airlines-offer-seeks-more-pay\",\"source\":\"sanmarcosrecord\",\"image\":null,\"category\":\"general\",\"language\":\"en\",\"country\":\"us\",\"published_at\":\"2022-11-02T23:56:56+00:00\"},{\"author\":\"Staff\",\"title\":\"Christians; Spiritual Blindness in America.\",\"description\":\"She is spiritually wise; and her vision extends far beyond eyesight. Proverbs 29:18 of the good book says: \\u201cWhere there is no vision, the people perish: but he that keepeth the law, happy is he.\\u201d Amen. We\\u2019re Americans. It\\u2019s up to every single one of us to have vision. We can choose to be spiritually blind \\u2013 or we can choose to truly see.\",\"url\":\"https:\\/\\/thyblackman.com\\/2022\\/11\\/02\\/christians-spiritual-blindness-in-america\\/\",\"source\":\"thyblackman\",\"image\":null,\"category\":\"general\",\"language\":\"en\",\"country\":\"us\",\"published_at\":\"2022-11-02T23:56:53+00:00\"},{\"author\":\"Ciar\\u00e1n Hanna\",\"title\":\"November 2022 Drugs Roundup: Over \\u20ac240,000 Ketamine seized in Dublin 7\",\"description\":\"Our roundup of some significant illegal drug seizures across the island in November begins with news that Garda\\u00ed said suspected [\\u0026#8230;]The post November 2022 Drugs Roundup: Over \\u20ac240,000 Ketamine seized in Dublin 7 appeared first on Inside Ireland.\",\"url\":\"https:\\/\\/insideireland.ie\\/2022\\/11\\/02\\/november-2022-drugs-roundup\\/?utm_source=rss\\u0026utm_medium=rss\\u0026utm_campaign=november-2022-drugs-roundup\",\"source\":\"insideireland\",\"image\":null,\"category\":\"general\",\"language\":\"en\",\"country\":\"ie\",\"published_at\":\"2022-11-02T23:56:39+00:00\"},{\"author\":\"\",\"title\":\"Itaewon Tragedy Takes Toll on Nation\\u0027s Mental Health\",\"description\":\"A growing number of Koreans are shutting down mentally after the Halloween stampede in Itaewon that killed more than 150 people. Sufferers are reluctant to go to crowded places or leave their home altogether.\\u0026nbsp;Lee Tae-joo (32), who was in Itaewon when the tragedy happened, said, \\u0022I have to take ...\",\"url\":\"https:\\/\\/english.chosun.com\\/site\\/data\\/html_dir\\/2022\\/11\\/03\\/2022110300919.html\",\"source\":\"english\",\"image\":null,\"category\":\"general\",\"language\":\"en\",\"country\":\"us\",\"published_at\":\"2022-11-02T23:56:31+00:00\"},{\"author\":\"McKenna Ross\",\"title\":\"Strip room rates soaring for Formula One race\",\"description\":\"More than a year before the Las Vegas Grand Prix, some hotel operators have already started charging hundreds of dollars more than a typical weekend fare.\",\"url\":\"https:\\/\\/www.reviewjournal.com\\/business\\/tourism\\/strip-room-rates-soaring-for-formula-one-race-2668918\\/\",\"source\":\"lvrj\",\"image\":null,\"category\":\"general\",\"language\":\"en\",\"country\":\"us\",\"published_at\":\"2022-11-02T23:56:16+00:00\"},{\"author\":null,\"title\":\"Matson, Inc. (MATX) Q3 2022 Earnings Call Transcript\",\"description\":\"Matson, Inc. (MATX) Q3 2022 Earnings Call Transcript\",\"url\":\"https:\\/\\/seekingalpha.com\\/article\\/4552282-matson-inc-matx-q3-2022-earnings-call-transcript?source=feed_all_articles\",\"source\":\"Seeking Alpha\",\"image\":null,\"category\":\"general\",\"language\":\"en\",\"country\":\"us\",\"published_at\":\"2022-11-02T23:56:06+00:00\"},{\"author\":\"Emmanuel Okonji\",\"title\":\"OneWellness Launches App to Address Medication Adherence among Patients\",\"description\":\"Emma Okonji OneWellness, a platform that provides holistic approach to healthcare management, has leveraged technology to provide improved healthcare services to thousands of patients, through the launch of a mobile\",\"url\":\"https:\\/\\/www.thisdaylive.com\\/index.php\\/2022\\/11\\/03\\/onewellness-launches-app-to-address-medication-adherence-among-patients-2\\/\",\"source\":\"thisdaylive\",\"image\":null,\"category\":\"general\",\"language\":\"en\",\"country\":\"us\",\"published_at\":\"2022-11-02T23:56:00+00:00\"},{\"author\":\"Associated Press\",\"title\":\"Michigan man gets 70 to 100 years for hammer murders\",\"description\":\"LANSING, Mich. (AP) \\u2014 A man charged in the hammer killings of two women after he showed cellphone photos of their beaten bodies to sheriff\\u2019s deputies during a traffic stop has been sentenced to 70-100 years in prison. Thirty-year-old Kiernan Brown was sentenced Wednesday after pleading guilty but mentally ill to second-degree murder in theThe post Michigan man gets 70 to 100 years for hammer murders appeared first on KRDO.\",\"url\":\"https:\\/\\/krdo.com\\/news\\/2022\\/11\\/02\\/michigan-man-gets-70-to-100-years-for-hammer-murders\\/\",\"source\":\"krdo\",\"image\":null,\"category\":\"general\",\"language\":\"en\",\"country\":\"us\",\"published_at\":\"2022-11-02T23:55:48+00:00\"},{\"author\":\"Brian Wacker\",\"title\":\"Kyrie Irving joins Nets, ADL in $1.5M pledge to fight hate: \\u2018I take responsibility\\u2019\",\"description\":\"Kyrie Irving took responsibility for sharing a link to an anti-Semitic movie, joining the Nets and the Anti-Defamation League in their pledge to fight hate.\",\"url\":\"https:\\/\\/nypost.com\\/2022\\/11\\/02\\/kyrie-irving-join-nets-adl-in-1-5m-pledge-to-fight-hate\\/\",\"source\":\"Post\",\"image\":\"https:\\/\\/nypost.com\\/wp-content\\/uploads\\/sites\\/2\\/2022\\/11\\/20221101_NetsBulls014CS.jpg?quality=90\\u0026strip=all\",\"category\":\"general\",\"language\":\"en\",\"country\":\"zm\",\"published_at\":\"2022-11-02T23:55:45+00:00\"},{\"author\":null,\"title\":\"Iran Arrests 3 For Connections To US, Saudi Institutions Amid Protests\",\"description\":\"Three persons have been arrested in Iran on a charge of cooperating with American and Saudi institutions amid the recent protests, reports Iranian media.According to the IRCG-linked Tasnim News Agency, citing an informed source the three arrestees had formed links with the American institution \\u201cTavana Tech\\u201d and Saudi-sponsored television \\u201cIran International\\u201d. Citing the source, Tasnim reported the three person have been cooperating with the foreign institutions under the name of \\u201ccitizen-reporters\\u201d amid the recent protests in Iran.Tavana Tech claims to provide \\u0022VPN tools, digital...\",\"url\":\"https:\\/\\/api.follow.it\\/track-rss-story-click\\/v3\\/Qw9d99ManWcrQeYN4frH2EGT5aWO9DEx\",\"source\":\"eurasiareview\",\"image\":null,\"category\":\"general\",\"language\":\"en\",\"country\":\"us\",\"published_at\":\"2022-11-02T23:55:44+00:00\"},{\"author\":\"Alyson Wong\",\"title\":\"Volleyball Drops Matches to Yale and Brown\",\"description\":\"Volleyball faced top ranked teams and came up short in game play after win against Columbia.\",\"url\":\"https:\\/\\/cornellsun.com\\/2022\\/11\\/02\\/volleyball-drops-matches-to-yale-and-brown\\/?utm_source=rss\\u0026utm_medium=rss\",\"source\":\"cornellsun\",\"image\":null,\"category\":\"general\",\"language\":\"en\",\"country\":\"us\",\"published_at\":\"2022-11-02T23:55:41+00:00\"},{\"author\":\"Gabriella Pacitto\",\"title\":\"Women\\u2019s Soccer Defeats Princeton for First Time Since 1995\",\"description\":\"\\u201c[The win] was a culmination of all of the hard work our team has been putting forward the past few seasons, and shows the strides we have made this year,\\u201d St. John said. \\u201cEven though we went down 1-0 in the beginning of the game, everyone played their part of fighting back to the 2-1 win.\\u201d\",\"url\":\"https:\\/\\/cornellsun.com\\/2022\\/11\\/02\\/womens-soccer-defeats-princeton-for-first-time-since-1995\\/?utm_source=rss\\u0026utm_medium=rss\",\"source\":\"cornellsun\",\"image\":null,\"category\":\"general\",\"language\":\"en\",\"country\":\"us\",\"published_at\":\"2022-11-02T23:55:41+00:00\"},{\"author\":\"Sports Department\",\"title\":\"Field Hockey Falls to Harvard in Overtime\",\"description\":\"\\u201cWe played very well but we didn\\u2019t take advantage of our offensive opportunities when we had them and didn\\u2019t execute on our penalty corners [which] cost us the game,\\u201d Smith said.\\u00a0\",\"url\":\"https:\\/\\/cornellsun.com\\/2022\\/11\\/02\\/field-hockey-falls-to-harvard-in-overtime\\/?utm_source=rss\\u0026utm_medium=rss\",\"source\":\"cornellsun\",\"image\":null,\"category\":\"general\",\"language\":\"en\",\"country\":\"us\",\"published_at\":\"2022-11-02T23:55:41+00:00\"},{\"author\":\"Nathan Jolly\",\"title\":\"Facebook Takes On LinkedIn With Professional Mode\",\"description\":\"Facebook is launching Professional Mode in a bid to allow users to network and share content professionally on the social media platform, while keeping their personal profile separate. Meta announced this as part of its Creator Week conference, where the company has also revealed various monetisation plans for Instagram, including the ability to creators to... Read More\",\"url\":\"https:\\/\\/www.channelnews.com.au\\/facebook-takes-on-linkedin-with-professional-mode\\/\",\"source\":\"channelnews\",\"image\":null,\"category\":\"general\",\"language\":\"en\",\"country\":\"au\",\"published_at\":\"2022-11-02T23:55:24+00:00\"},{\"author\":\"Scott Beggs\",\"title\":\"Tilda Swinton Plays Her Own Mother In An Exquisite Ghost Story In \\u2018The Eternal Daughter\\u2019 Trailer\",\"description\":\"It stars Tilda Swinton and Tilda Swinton as a middle-aged daughter and elderly mother returning to the former family home.\",\"url\":\"https:\\/\\/uproxx.com\\/movies\\/the-eternal-daughter-trailer-tilda-swinton-a24\\/\",\"source\":\"hitfix\",\"image\":null,\"category\":\"general\",\"language\":\"en\",\"country\":\"us\",\"published_at\":\"2022-11-02T23:55:05+00:00\"},{\"author\":null,\"title\":\"Joy Hofmeister Makes Pitstop in Bartlesville\",\"description\":\"Democratic Candidate for Governor Joy Hofmeister was in Bartlesville on Wednesday evening at Unity Square. Hofmeister made most of her speech about focusing on education and talks about\\u0026nbsp;why she would make a great Governor. Democratic State Superintended hopeful Jenna Nelson also spoke in front of the crowd of about 50 people.\\u0026nbsp; The election is on Tuesday, Nov. 8.\\u0026nbsp;\",\"url\":\"http:\\/\\/bartlesvilleradio.com\\/pages\\/news\\/361382022\\/joy-hofmeister-makes-pitstop-in-bartlesville\",\"source\":\"bartlesvilleradio\",\"image\":null,\"category\":\"general\",\"language\":\"en\",\"country\":\"us\",\"published_at\":\"2022-11-02T23:54:57+00:00\"},{\"author\":\"Tim Baines, Postmedia\",\"title\":\"Redblacks Acklin, Mauldin, Ruby picked for CFL East all-star team\",\"description\":\"Three Ottawa Redblacks \\u0026#8211; defensive end Lorenzo Mauldin IV, offensive lineman Jacob Ruby and receiver Jaelon Acklin \\u0026#8211; were included on the CFL East Division all-star team, named Wednesday. Mauldin, the East\\u0026#8217;s finalist for Most Outstanding Defensive Player, was the CFL sack leader with 17. He had 43 defensive tackles and two forced fumbles. Acklin [\\u0026#8230;]\",\"url\":\"https:\\/\\/ottawasun.com\\/sports\\/football\\/cfl\\/ottawa-redblacks\\/redblacks-acklin-mauldin-picked-for-cfl-east-all-star-team\",\"source\":\"Ottawa Sun\",\"image\":null,\"category\":\"general\",\"language\":\"en\",\"country\":\"ca\",\"published_at\":\"2022-11-02T23:54:56+00:00\"},{\"author\":\"The Associated Press\",\"title\":\"TV audience for World Series Game 3 on Fox down 2.7%\",\"description\":\"PHILADELPHIA (AP) \\u0026#8212; The Philadelphia Phillies\\u0026#8217; 7-0 win over Houston in Game 3 of the World Series was seen by 11,162,000 viewers on Fox, down 2.7% from last year\\u0026#8217;s third game. Atlanta\\u0026#8217;s 2-0 victory over the Astros last season was seen by 11,469,000. That game was on a Friday night, while this year\\u0026#8217;s Game 3 [\\u0026#8230;]\",\"url\":\"https:\\/\\/nationalpost.com\\/pmn\\/entertainment-pmn\\/tv-audience-for-world-series-game-3-on-fox-down-2-7\",\"source\":\"nationalpost\",\"image\":null,\"category\":\"general\",\"language\":\"en\",\"country\":\"us\",\"published_at\":\"2022-11-02T23:54:31+00:00\"},{\"author\":\"Quinn Campbell\",\"title\":\"Harvest in Alberta finishes with above-average crops\",\"description\":\"Farmers across the province have got their crop in the bin earlier than average due to the warm weather. Alberta\\u0027s final crop report shows yields were above average.\",\"url\":\"https:\\/\\/globalnews.ca\\/news\\/9246482\\/alberta-harvest-above-average-crops\\/\",\"source\":\"globalmontreal\",\"image\":\"https:\\/\\/globalnews.ca\\/wp-content\\/uploads\\/2022\\/10\\/2022101215108-6347113701c23b11c7f81d93jpeg.jpg?quality=85\\u0026strip=all\\u0026w=720\\u0026h=480\\u0026crop=1\",\"category\":\"general\",\"language\":\"en\",\"country\":\"us\",\"published_at\":\"2022-11-02T23:54:13+00:00\"},{\"author\":\"Nosa Alekhuogie\",\"title\":\"NCC, Zoho, Digital Encode, Others for AfriTECH 2.0\",\"description\":\"Nosa Alekhuogie Stakeholders will be participating in this year\\u2019s Africa Tech Alliance Forum (AfriTECH 2.0), sponsored by Zoho Corporation, Digital Encode, ESET, Layer3Cloud, including partners drawn from the Nigerian Communications\",\"url\":\"https:\\/\\/www.thisdaylive.com\\/index.php\\/2022\\/11\\/03\\/ncc-zoho-digital-encode-others-for-afritech-2-0\\/\",\"source\":\"thisdaylive\",\"image\":null,\"category\":\"general\",\"language\":\"en\",\"country\":\"us\",\"published_at\":\"2022-11-02T23:54:00+00:00\"},{\"author\":\"AP News\",\"title\":\"Philly, Houston rev up for rare World Series-NFL double dip\",\"description\":\"The Philadelphia Phillies and Houston Astros are set to play Game 5 of the World Series on Thursday nightThe post Philly, Houston rev up for rare World Series-NFL double dip appeared first on WTMJ.\",\"url\":\"https:\\/\\/wtmj.com\\/national\\/2022\\/11\\/02\\/philly-houston-rev-up-for-rare-world-series-nfl-double-dip-2\\/\",\"source\":\"620wtmj\",\"image\":null,\"category\":\"general\",\"language\":\"en\",\"country\":\"us\",\"published_at\":\"2022-11-02T23:53:44+00:00\"},{\"author\":\"Extra Staff\",\"title\":\"Paul Wesley Kisses Model Natalie Kuckenburg After Ines de Ramon Split\",\"description\":\"More than a month after news broke about his separation from Ines de Ramon, Paul Wesley appears to have moved on from the marriage! On Wednesday, Wesley, 40, was spotted kissing model Natalie Kuckenburg, 22, while vacationing in Italy in photos obtained by Page Six. The two were seen packing on the PDA during a dinner in Nerano. For the outing, Paul wore a black cap, button-down shirt, shorts, and sneakers. Natalie opted for a white dress and sandals. The two first sparked romance rumors when they were spotted together in August in photos obtained by DailyMail.com. Around that time, Paul\\u2019s...\",\"url\":\"https:\\/\\/extratv.com\\/2022\\/11\\/02\\/paul-wesley-kisses-model-natalie-kuckenburg-after-ines-de-ramon-split\\/\",\"source\":\"extratv\",\"image\":\"https:\\/\\/extra-images.akamaized.net\\/image\\/4e\\/o\\/2022\\/11\\/02\\/4ee3604ab2ad47e59b6c23ddd68a9473_md.jpg\",\"category\":\"general\",\"language\":\"en\",\"country\":\"us\",\"published_at\":\"2022-11-02T23:53:36+00:00\"},{\"author\":\"\",\"title\":\"\\u2018Good riddance\\u2019: Parkland school shooter to begin life sentence after facing families\",\"description\":\"Nikolas Cruz received a sentence for killing 17 students and staff during the Feb. 14, 2018, massacre at Marjory Stoneman Douglas High School in suburban Fort Lauderdale.\",\"url\":\"https:\\/\\/globalnews.ca\\/news\\/9246668\\/parkland-school-shooter-life\\/\",\"source\":\"globalmontreal\",\"image\":null,\"category\":\"general\",\"language\":\"en\",\"country\":\"us\",\"published_at\":\"2022-11-02T23:53:35+00:00\"},{\"author\":\"Reuters\",\"title\":\"Bubba Watson: I was paid to play in PGA Tour events\",\"description\":\"Two-time Masters champion turned LIV Golf Series pro Bubba Watson said Wednesday he got \\u0026#8220;paid behind closed doors\\u0026#8221; while on the PGA Tour to show up to \\u0026#8220;many tournaments,\\u0026#8221; a violation of Tour rules. Watson, 43, made the comments to ESPN about the hullabaloo made by the PGA Tour and LIV critics about the hundreds [\\u0026#8230;]\",\"url\":\"https:\\/\\/nationalpost.com\\/pmn\\/sports-pmn\\/bubba-watson-i-was-paid-to-play-in-pga-tour-events\",\"source\":\"nationalpost\",\"image\":null,\"category\":\"general\",\"language\":\"en\",\"country\":\"us\",\"published_at\":\"2022-11-02T23:53:29+00:00\"},{\"author\":\"\",\"title\":\"Biden warns democracy is at stake in U.S. midterms, urges voters to reject violence\",\"description\":\"Pointing in particular to the attack on House Speaker Nancy Pelosi\\u0027s husband, the president warned false claims of election fraud are fueling a rise in political violence.\",\"url\":\"https:\\/\\/globalnews.ca\\/news\\/9246640\\/biden-midterms-violence-democracy-speech\\/\",\"source\":\"globalmontreal\",\"image\":\"https:\\/\\/globalnews.ca\\/wp-content\\/uploads\\/2022\\/11\\/20221102191124-6362fc267fa3c5ef7aeefcf9jpeg-e1667432657367.jpg?quality=85\\u0026strip=all\\u0026w=720\\u0026h=480\\u0026crop=1\",\"category\":\"general\",\"language\":\"en\",\"country\":\"us\",\"published_at\":\"2022-11-02T23:53:10+00:00\"},{\"author\":\"Amy Judd\",\"title\":\"\\u2018She helped everyone she could\\u2019: Const. Shaelyn Yang remembered at her funeral\",\"description\":\"Shaelyn Yang becomes the 247th member of the RCMP killed in the line of duty since 1873. The RCMP\\u2019s precursor, the North-West Mounted Police, was founded on May 23, 1873.\",\"url\":\"https:\\/\\/globalnews.ca\\/news\\/9246417\\/rcmp-const-shaelyn-yang-remembered-funeral\\/\",\"source\":\"globaltvbc\",\"image\":\"https:\\/\\/globalnews.ca\\/wp-content\\/uploads\\/2022\\/11\\/CP165171976.jpg?quality=85\\u0026strip=all\\u0026w=720\\u0026h=480\\u0026crop=1\",\"category\":\"general\",\"language\":\"en\",\"country\":\"us\",\"published_at\":\"2022-11-02T23:53:01+00:00\"},{\"author\":\"Nosa Alekhuogie\",\"title\":\"GoMyCode Nigeria Rewards Developers at Hackathon\",\"description\":\"Nosa Alekhuogie GoMyCode, Africa\\u2019s leading edtech platform recently concluded its first-ever multi-country hackathon. The hackathon, which took place simultaneously in five countries in October, was built around the theme \\u201cUpside\",\"url\":\"https:\\/\\/www.thisdaylive.com\\/index.php\\/2022\\/11\\/03\\/gomycode-nigeria-rewards-developers-at-hackathon\\/\",\"source\":\"thisdaylive\",\"image\":null,\"category\":\"general\",\"language\":\"en\",\"country\":\"us\",\"published_at\":\"2022-11-02T23:53:00+00:00\"},{\"author\":\"ANNEMARIE QUILL\",\"title\":\"Pohutukawa or shades of Mob? - Neighbours see red over bright bach in flash street\",\"description\":\"A newly-painted bach in a flash Mount Maunganui street has some loving the brightness and others seeing shades of gang patch or brothel.\",\"url\":\"https:\\/\\/www.stuff.co.nz\\/life-style\\/homed\\/300728611\\/pohutukawa-or-shades-of-mob--neighbours-see-red-over-bright-bach-in-flash-street.html\",\"source\":\"Stuff.co.nz\",\"image\":\"https:\\/\\/resources.stuff.co.nz\\/content\\/dam\\/images\\/4\\/z\\/1\\/n\\/n\\/y\\/image.related.StuffThumbnail.90x60.4z1noj.png\\/1667433172493.jpg\",\"category\":\"general\",\"language\":\"en\",\"country\":\"nz\",\"published_at\":\"2022-11-02T23:52:47+00:00\"},{\"author\":\"artappraiser\",\"title\":\"pic.twitter.com\\/XuJdfMTTi1\",\"description\":\"In reply to AOC \\u0026amp; Elon Musk:pic.twitter.com\\/XuJdfMTTi1\\u2014 Elon Musk (@elonmusk) November 2, 2022\",\"url\":\"http:\\/\\/dagblog.com\\/comment\\/321632#comment-321632\",\"source\":\"dagblog\",\"image\":null,\"category\":\"general\",\"language\":\"en\",\"country\":\"us\",\"published_at\":\"2022-11-02T23:52:44+00:00\"},{\"author\":\"Rachel Ulatowski\",\"title\":\"Kate Upton is ready for some baseball now that the rain has stopped\",\"description\":\"Kate Upton looked stunning as she was snapped jumping for joy in a blue outfit. The 30-year-old model couldn\\u0026#8217;t contain her excitement as she realized the rain had gone away. This was exciting news as the MLB World Series could go on. Upton\\u0026#8217;s excitement was warranted, considering her husband, Justin\",\"url\":\"https:\\/\\/www.monstersandcritics.com\\/celebrity\\/kate-upton-is-ready-for-some-baseball-now-that-the-rain-has-stopped\\/\",\"source\":\"monstersandcritics\",\"image\":null,\"category\":\"general\",\"language\":\"en\",\"country\":\"us\",\"published_at\":\"2022-11-02T23:52:31+00:00\"},{\"author\":\"admin\",\"title\":\"BWS notifies Water Interruptions During Storm\",\"description\":\"BWS notifies customers that due to the effects of Hurricane Lisa, there will be water interruptions across the country of Belize. As soon as we have received an \\u0026#8216;all clear\\u0026#8217; we will dispatch our crews to restore water as soon as possible. BWS reminds customers to stay safe during the hurricane.\",\"url\":\"https:\\/\\/www.lovefm.com\\/bws-notifies-water-interruptions-during-storm\\/\",\"source\":\"Love FM News\",\"image\":null,\"category\":\"general\",\"language\":\"en\",\"country\":\"bz\",\"published_at\":\"2022-11-02T23:52:22+00:00\"},{\"author\":null,\"title\":\"Abren albergues en la fronteriza Tijuana para venezolanos deportados a M\\u00e9xico\",\"description\":\"Los primeros albergues para venezolanos deportados por EE.UU. abrieron este mi\\u00e9rcoles en Tijuana, en la frontera de M\\u00e9xico con el estado de California, despu\\u00e9s del anuncio de Estados Unidos sobre la expulsi\\u00f3n inmediata de migrantes de Venezuela que lleguen por tierra.\",\"url\":\"https:\\/\\/www.sandiegouniontribune.com\\/en-espanol\\/noticias\\/bc\\/articulo\\/2022-11-02\\/abren-albergues-en-la-fronteriza-tijuana-para-venezolanos-deportados-a-mexico\",\"source\":\"signonsandiego\",\"image\":null,\"category\":\"general\",\"language\":\"en\",\"country\":\"us\",\"published_at\":\"2022-11-02T23:52:21+00:00\"},{\"author\":\"B\\u0026T Magazine\",\"title\":\"Weber Shandwick Boosts PR \\u0026 Client Leadership Team\",\"description\":\"Comms agency Weber Shandwick has announced key promotions within its PR and client leadership team, and introduced an in...\",\"url\":\"https:\\/\\/www.bandt.com.au\\/weber-shandwick-boosts-pr-client-leadership-team\\/\",\"source\":\"bandt\",\"image\":\"https:\\/\\/www.bandt.com.au\\/information\\/uploads\\/2022\\/11\\/Image-1-230x153.jpg\",\"category\":\"general\",\"language\":\"en\",\"country\":\"au\",\"published_at\":\"2022-11-02T23:51:57+00:00\"},{\"author\":\"Swagatalakshmi Roychowdhury\",\"title\":\"Schedule Uninterrupted Professional Meeting with BenQ\\u2019s New Meeting Room Projector\",\"description\":\"BenQ has launched an LED Meeting Room projector with low noise level to avoid interruptions and improved lighting performance for colour accurate images. LW500 comes with a low noise level operating at 32\\/28 (Eco) decibels for uninterrupted meetings. The LW500 WXGA projector with a SmartEco mode optimizes projector brightness to extend its lifetime and improve... Read More\",\"url\":\"https:\\/\\/www.channelnews.com.au\\/schedule-uninterrupted-professional-meeting-with-benqs-new-meeting-room-projector\\/\",\"source\":\"channelnews\",\"image\":null,\"category\":\"general\",\"language\":\"en\",\"country\":\"au\",\"published_at\":\"2022-11-02T23:51:37+00:00\"},{\"author\":\"Mark Potash\",\"title\":\"Bears notebook: Lack of \\u2018ball production\\u2019 doomed Roquan Smith\",\"description\":\"Roquan Smith was leading the NFL in tackles when he was traded to the Ravens on Monday.Ashlee Rezin\\/Sun-Times It was all about the takeaways.\\u0026nbsp;Roquan Smith wanted to be paid like Colts linebacker Shaquille Leonard, who blossomed into a star in Matt Eberflus\\u2019 defense in Indianapolis and signed a five-year, $98 million contract in 2021. But while Smith was a two-time All-Pro, he didn\\u2019t have Leonard\\u2019s knack for game-changing plays \\u2014\\u0026nbsp;responsible for 30 takeaways in his first four seasons to only six for Smith.\\u0026nbsp;That\\u2019s why Eberflus backed the Colts\\u2019 signing Leonard to a five...\",\"url\":\"https:\\/\\/chicago.suntimes.com\\/bears\\/2022\\/11\\/2\\/23437829\\/bears-notebook-lack-of-ball-production-doomed-roquan-smith\",\"source\":\"suntimes\",\"image\":null,\"category\":\"general\",\"language\":\"en\",\"country\":\"us\",\"published_at\":\"2022-11-02T23:51:22+00:00\"},{\"author\":\"editor\",\"title\":\"Ericsson to Discuss Sustainable Growth in Africa\",\"description\":\"Ericsson will be discussing how to drive sustainable growth in Africa at this year\\u2019s AfricaTech Festival, taking place from November 7 to November 11, 2022. AfricaTech Festival 2022 aims at\",\"url\":\"https:\\/\\/www.thisdaylive.com\\/index.php\\/2022\\/11\\/03\\/ericsson-to-discuss-sustainable-growth-in-africa\\/\",\"source\":\"thisdaylive\",\"image\":null,\"category\":\"general\",\"language\":\"en\",\"country\":\"us\",\"published_at\":\"2022-11-02T23:51:00+00:00\"},{\"author\":\"Newswise Expert Queries\",\"title\":\"The rates of alcohol-induced - Talal Ansari, The Wall Street Journal\",\"description\":\"The rates of alcohol-induced deaths spiked by 26% between 2019 and 2020, the first\",\"url\":\"http:\\/\\/www.newswise.com\\/articles\\/view\\/781644\\/?sc=rssn\",\"source\":\"newswise\",\"image\":null,\"category\":\"general\",\"language\":\"en\",\"country\":\"us\",\"published_at\":\"2022-11-02T23:50:55+00:00\"},{\"author\":\"Newswise Expert Queries\",\"title\":\"Hello, I\\u0027m looking for - Manasee Wagh, Popular Mechanics\",\"description\":\"Hello, I\\u0027m looking for a scientist who can talk about animals that haven\\u0027t\",\"url\":\"http:\\/\\/www.newswise.com\\/articles\\/view\\/781489\\/?sc=rssn\",\"source\":\"newswise\",\"image\":null,\"category\":\"general\",\"language\":\"en\",\"country\":\"us\",\"published_at\":\"2022-11-02T23:50:55+00:00\"},{\"author\":\"Beijing Institute of Technology\",\"title\":\"How Scientist Designed a System for Pose Determination of Spacecraft Using Time-of-Flight Sensors?\",\"description\":\"Spacecraft pose determination is aimed at acquiring the relative pose of the active spacecraft like nanosatellites to the target.\",\"url\":\"http:\\/\\/www.newswise.com\\/articles\\/view\\/781657\\/?sc=rssn\",\"source\":\"newswise\",\"image\":null,\"category\":\"general\",\"language\":\"en\",\"country\":\"us\",\"published_at\":\"2022-11-02T23:50:55+00:00\"},{\"author\":\"Beijing Institute of Technology\",\"title\":\"How Scientist Designed a System for Pose Determination of Spacecraft Using Time-of-Flight Sensors?\",\"description\":\"Spacecraft pose determination is aimed at acquiring the relative pose of the active spacecraft like nanosatellites to the target.\",\"url\":\"http:\\/\\/www.newswise.com\\/articles\\/view\\/781657\\/?sc=rsla\",\"source\":\"newswise\",\"image\":null,\"category\":\"general\",\"language\":\"en\",\"country\":\"us\",\"published_at\":\"2022-11-02T23:50:46+00:00\"},{\"author\":\"Newswise Expert Queries\",\"title\":\"The rates of alcohol-induced - Talal Ansari, The Wall Street Journal\",\"description\":\"The rates of alcohol-induced deaths spiked by 26% between 2019 and 2020, the first\",\"url\":\"http:\\/\\/www.newswise.com\\/articles\\/view\\/781644\\/?sc=rsla\",\"source\":\"newswise\",\"image\":null,\"category\":\"general\",\"language\":\"en\",\"country\":\"us\",\"published_at\":\"2022-11-02T23:50:46+00:00\"},{\"author\":\"Newswise Expert Queries\",\"title\":\"Hello, I\\u0027m looking for - Manasee Wagh, Popular Mechanics\",\"description\":\"Hello, I\\u0027m looking for a scientist who can talk about animals that haven\\u0027t\",\"url\":\"http:\\/\\/www.newswise.com\\/articles\\/view\\/781489\\/?sc=rsla\",\"source\":\"newswise\",\"image\":null,\"category\":\"general\",\"language\":\"en\",\"country\":\"us\",\"published_at\":\"2022-11-02T23:50:46+00:00\"},{\"author\":\"Newswise Expert Queries\",\"title\":\"Hello, I\\u0027m looking for - Manasee Wagh, Popular Mechanics\",\"description\":\"Hello, I\\u0027m looking for a scientist who can talk about animals that haven\\u0027t\",\"url\":\"http:\\/\\/www.newswise.com\\/articles\\/view\\/781489\\/?sc=rsln\",\"source\":\"newswise\",\"image\":null,\"category\":\"general\",\"language\":\"en\",\"country\":\"us\",\"published_at\":\"2022-11-02T23:50:44+00:00\"},{\"author\":\"Taya Fast\",\"title\":\"Annual Field of Crosses display back at Kelowna, B.C. park\",\"description\":\"Kelowna, B.C.\\u0027s Field of Crosses display honouring fallen soldiers in conjunction with to Remembrance Day will be in place until Nov. 12.\",\"url\":\"https:\\/\\/globalnews.ca\\/news\\/9246626\\/field-of-crosses-kelowna-2022\\/\",\"source\":\"chbcnews\",\"image\":\"https:\\/\\/globalnews.ca\\/wp-content\\/uploads\\/2022\\/11\\/Nov-2-2022-Field-of-Crosses.jpeg?quality=85\\u0026strip=all\\u0026w=720\\u0026h=480\\u0026crop=1\",\"category\":\"general\",\"language\":\"en\",\"country\":\"ca\",\"published_at\":\"2022-11-02T23:50:26+00:00\"},{\"author\":null,\"title\":\"Biden spending $4.5 billion to help lower home heating costs\",\"description\":\"The Biden administration is making $4.5 billion available through a low-income home energy assistance program to help lower heating costs heading into what is expected to be a brutal winter.\",\"url\":\"https:\\/\\/www.latimes.com\\/world-nation\\/story\\/2022-11-02\\/biden-spending-4-5-billion-to-help-lower-home-heating-costs\",\"source\":\"latimes\",\"image\":null,\"category\":\"general\",\"language\":\"en\",\"country\":\"us\",\"published_at\":\"2022-11-02T23:50:18+00:00\"},{\"author\":null,\"title\":\"Fed t\\u0103ng l\\u00e3i su\\u1ea5t m\\u1ea1nh tay l\\u1ea7n th\\u1ee9 4 li\\u00ean ti\\u1ebfp\",\"description\":\"C\\u1ee5c D\\u1ef1 tr\\u1eef li\\u00ean bang M\\u1ef9 (Fed) h\\u00f4m 2\\/11 ti\\u1ebfp t\\u1ee5c n\\u00e2ng l\\u00e3i su\\u1ea5t tham chi\\u1ebfu th\\u00eam 75 \\u0111i\\u1ec3m c\\u01a1 b\\u1ea3n, nh\\u1eb1m h\\u1ea1 nhi\\u1ec7t l\\u1ea1m ph\\u00e1t t\\u1ea1i M\\u1ef9.\",\"url\":\"https:\\/\\/vnexpress.net\\/fed-tang-lai-suat-manh-tay-lan-thu-4-lien-tiep-4531325.html\",\"source\":\"VnExpress\",\"image\":null,\"category\":\"general\",\"language\":\"en\",\"country\":\"vn\",\"published_at\":\"2022-11-02T23:50:18+00:00\"},{\"author\":\"Lincoln Son Currie\",\"title\":\"For the Love of the Little Guy, Cheer for the Astros | Minority Report\",\"description\":\"The World Series is already underway, and while many baseball fans are cheering for Philadelphia, everyone except Phillies fans should be cheering for the Houston Astros.\\u00a0\",\"url\":\"https:\\/\\/dailyfreepress.com\\/2022\\/11\\/02\\/for-the-love-of-the-little-guy-cheer-for-the-astros-minority-report\\/?utm_source=rss\\u0026utm_medium=rss\\u0026utm_campaign=for-the-love-of-the-little-guy-cheer-for-the-astros-minority-report\",\"source\":\"dailyfreepress\",\"image\":null,\"category\":\"general\",\"language\":\"en\",\"country\":\"us\",\"published_at\":\"2022-11-02T23:50:15+00:00\"},{\"author\":\"Industry News\",\"title\":\"Binary Defense raises $36 million to accelerate sales and marketing\",\"description\":\"Binary Defense Systems has closed a $36 million first institutional growth equity funding round led by Invictus Growth Partners (\\u201cInvictus\\u201d). Binary Defense was founded by David Kennedy and Mike Valentine and is trusted by hundreds of customers for their most critical cybersecurity needs. The capital will be used to accelerate sales and marketing, broaden the partner ecosystem, expand machine learning capabilities, and create a Managed Open XDR offering. Enterprises are under exponentially increasing global cyber \\u0026#8230; More \\u0026#8594;The post Binary Defense raises $36 million to accelerate...\",\"url\":\"https:\\/\\/www.helpnetsecurity.com\\/2022\\/11\\/03\\/binary-defense-funding\\/\",\"source\":\"net-security\",\"image\":null,\"category\":\"general\",\"language\":\"en\",\"country\":\"us\",\"published_at\":\"2022-11-02T23:50:15+00:00\"},{\"author\":\"\",\"title\":\"Letter to the Editor | JoCo Board of Supervisors need fiscal oversight and rural representation\",\"description\":\"Columns reflect the opinions of the authors and are not necessarily those of the Editorial Board, The Daily Iowan, or other organizations in which the author may be involved. Fiscal oversight and rural representation are sadly lacking on the present Board of Supervisors.\\u00a0 Anyone who looks at how the Board of Supervisors have rewarded themselves...The post Letter to the Editor | JoCo Board of Supervisors need fiscal oversight and rural representation appeared first on The Daily Iowan.\",\"url\":\"https:\\/\\/dailyiowan.com\\/2022\\/11\\/02\\/letter-to-the-editor-joco-board-of-supervisors-need-fiscal-oversight-and-rural-representation\\/\",\"source\":\"dailyiowan\",\"image\":null,\"category\":\"general\",\"language\":\"en\",\"country\":\"us\",\"published_at\":\"2022-11-02T23:50:09+00:00\"},{\"author\":\"Madeline Coleman\",\"title\":\"Report: Commanders Face Criminal Probe Into Alleged Financial Offenses\",\"description\":\"The inquiry reportedly stemmed from a congressional committee\\u2019s letter to the Federal Trade Commission.\",\"url\":\"https:\\/\\/www.si.com\\/nfl\\/2022\\/11\\/02\\/commanders-face-criminal-probe-alleged-financial-offenses\",\"source\":\"si\",\"image\":\"http:\\/\\/www.si.com\\/.image\\/c_limit%2Ccs_srgb%2Cfl_progressive%2Ch_1200%2Cq_auto:good%2Cw_1200\\/MTkzNDczNTYwMjQ3ODA1MTU2\\/commanders-helmet-20.jpg\",\"category\":\"general\",\"language\":\"en\",\"country\":\"us\",\"published_at\":\"2022-11-02T23:50:05+00:00\"},{\"author\":\"Nemanja Lisinac\",\"title\":\"\\u0160eron Stoun otkrila da ima tumor, glumica mora na hitnu operaciju: Nemojte da se pravite da nije bitno\",\"description\":\"Glumica \\u0160eron Stoun oglasila se putem dru\\u0161tvene mre\\u017ee Instagram i otkrila da joj je dijagnostikovan tumor.\",\"url\":\"https:\\/\\/www.telegraf.rs\\/jetset\\/holivud\\/3579590-seron-stoun-otkrila-da-ima-tumor-glumica-mora-na-hitnu-operaciju-nemojte-da-se-pravite-da-nije-bitno\",\"source\":\"Telegraf\",\"image\":\"https:\\/\\/xdn.tf.rs\\/2021\\/08\\/31\\/profimedia-0359154194.jpg?ver=183766\",\"category\":\"general\",\"language\":\"en\",\"country\":\"rs\",\"published_at\":\"2022-11-02T23:50:00+00:00\"},{\"author\":\"Dave DeCamp\",\"title\":\"Iran to Send Delegation to Vienna for Talks With IAEA\",\"description\":\"Iran will send a delegation to Vienna to hold talks with the International Atomic Energy Agency (IAEA) on the UN nuclear watchdog\\u0026#8217;s investigation into traces of uranium at undeclared Iranian nuclear sites. Iranian Foreign Minister Hossein Amir-Abdollahian said that Iran will send the delegation \\u0026#8220;in the coming days in order to begin talks and strengthen \\u0026#8230; Continue reading \\u0022Iran to Send Delegation to Vienna for Talks With IAEA\\u0022The post Iran to Send Delegation to Vienna for Talks With IAEA appeared first on News From Antiwar.com.\",\"url\":\"https:\\/\\/news.antiwar.com\\/2022\\/11\\/02\\/iran-to-send-delegation-to-vienna-for-talks-with-iaea\\/\",\"source\":\"antiwar\",\"image\":null,\"category\":\"general\",\"language\":\"en\",\"country\":\"us\",\"published_at\":\"2022-11-02T23:49:28+00:00\"},{\"author\":\"Greg Davis\",\"title\":\"6 arrested after OPP seize drugs, stolen vehicles, $40K in Trent Hills, Norwood area\",\"description\":\"Police executed six search warrants at residences in the Municipality of Trent Hills and Asphodel-Norwood Township on Wednesday morning.\",\"url\":\"https:\\/\\/globalnews.ca\\/news\\/9246604\\/opp-seize-drugs-stolen-vehicles-40k-investigation\\/\",\"source\":\"globalwinnipeg\",\"image\":\"https:\\/\\/globalnews.ca\\/wp-content\\/uploads\\/2022\\/10\\/OPP-Ontario-Provincial-Police-e1664906563420.jpg?quality=85\\u0026strip=all\\u0026w=720\\u0026h=480\\u0026crop=1\",\"category\":\"general\",\"language\":\"en\",\"country\":\"us\",\"published_at\":\"2022-11-02T23:49:26+00:00\"},{\"author\":\"Melissa Zaremba\",\"title\":\"Gusty winds and cooler for Wednesday\",\"description\":\"As a cold weather system passes through the region it will bring us gusty winds, cooler temperatures, and chance for possible rain showers for the next few days.The post Gusty winds and cooler for Wednesday appeared first on KYMA.\",\"url\":\"https:\\/\\/kyma.com\\/news\\/2022\\/11\\/02\\/gusty-winds-and-cooler-for-wednesday\\/\",\"source\":\"kswt\",\"image\":null,\"category\":\"general\",\"language\":\"en\",\"country\":\"us\",\"published_at\":\"2022-11-02T23:49:23+00:00\"},{\"author\":\"none\",\"title\":\"Best of Boulder East County 2022 \\u2014 Food\",\"description\":\"Bakery Moxie Bread Company 641 Main St., Louisville, 720-420-9616 Longmont Winner: Babette\\u2019s Artisan Bread Lafayette Winner: Button Rock Bakery Write-In Winner: Jeannot\\u2019s Patisserie \\u0026 Bistro The highly-awarded Moxie has been turning heads since 2015 with its impressive bread, pastries and breakfast and lunch plates. Challah, sourdough, baguettes and a range of ciabatta all showcase organic, [\\u0026#8230;]The post Best of Boulder East County 2022 \\u2014 Food appeared first on Boulder Weekly.\",\"url\":\"https:\\/\\/boulderweekly.com\\/special-editions\\/best-of-boulder-east-county-2022-food\\/\",\"source\":\"boulderweekly\",\"image\":null,\"category\":\"general\",\"language\":\"en\",\"country\":\"us\",\"published_at\":\"2022-11-02T23:49:15+00:00\"},{\"author\":\"Danni Button\",\"title\":\"Elon Musk\\u0027s Twitter May be Looking to Compete With OnlyFans\",\"description\":\"Twitter could be making big changes to their terms of service regarding adult content --and how to monetize it.\",\"url\":\"https:\\/\\/www.thestreet.com\\/social-media\\/elon-musks-twitter-may-be-looking-to-compete-with-onlyfans\",\"source\":\"mainstreet\",\"image\":\"http:\\/\\/www.thestreet.com\\/.image\\/c_limit%2Ccs_srgb%2Cfl_progressive%2Ch_1200%2Cq_auto:good%2Cw_1200\\/MTg5MTEwODQ2Mjg1MTYyMjY0\\/elon-musk-twitter.jpg\",\"category\":\"general\",\"language\":\"en\",\"country\":\"us\",\"published_at\":\"2022-11-02T23:49:02+00:00\"},{\"author\":\"Master Sgt. Michael Touchette\",\"title\":\"Montana National Guard volunteers receive national awards [Image 8 of 17]\",\"description\":\"Maj. Gen. Pete Hronek, the Adjutant General of Montana, presents Gracie Leiva a plaque recognizing her selection as Youth Volunteer of the Year for fiscal year 2021 at a ceremony held on the Montana State University campus October 19.\",\"url\":\"https:\\/\\/www.dvidshub.net\\/image\\/7492956\\/montana-national-guard-volunteers-receive-national-awards\",\"source\":\"dvidshub\",\"image\":\"https:\\/\\/cdn.dvidshub.net\\/media\\/thumbs\\/photos\\/2211\\/7492956\\/250x200_q75.jpg\",\"category\":\"general\",\"language\":\"en\",\"country\":\"us\",\"published_at\":\"2022-11-02T23:48:45+00:00\"},{\"author\":\"Master Sgt. Michael Touchette\",\"title\":\"Montana National Guard volunteers receive national awards [Image 9 of 17]\",\"description\":\"Maj. Gen. Pete Hronek, the Adjutant General of Montana, presents Gracie Leiva a plaque recognizing her selection as Youth Volunteer of the Year for fiscal year 2021 at a ceremony held on the Montana State University campus October 19.\",\"url\":\"https:\\/\\/www.dvidshub.net\\/image\\/7492957\\/montana-national-guard-volunteers-receive-national-awards\",\"source\":\"dvidshub\",\"image\":\"https:\\/\\/cdn.dvidshub.net\\/media\\/thumbs\\/photos\\/2211\\/7492957\\/200x250_q75.jpg\",\"category\":\"general\",\"language\":\"en\",\"country\":\"us\",\"published_at\":\"2022-11-02T23:48:43+00:00\"},{\"author\":\"Sabrina Picou\",\"title\":\"Jennifer Aniston Rocks Natural Curls While Letting Her Hair \\u2018Air Dry\\u2019 In Gorgeous New Video\",\"description\":\"\\u0027Friends\\u0027 star Jennifer Aniston let her natural curls flow in a new chic hair tutorial for her beauty brand, LolaVie, via Instagram on Nov. 2.\",\"url\":\"https:\\/\\/hollywoodlife.com\\/2022\\/11\\/02\\/jennifer-aniston-natural-curls-tutorial-video\\/\",\"source\":\"hollywoodlife\",\"image\":\"https:\\/\\/hollywoodlife.com\\/wp-content\\/uploads\\/2022\\/11\\/jennifer-aniston-natural-curly-hair-ss-ftr.jpg\",\"category\":\"general\",\"language\":\"en\",\"country\":\"us\",\"published_at\":\"2022-11-02T23:48:40+00:00\"},{\"author\":\"Master Sgt. Michael Touchette\",\"title\":\"Montana National Guard volunteers receive national awards [Image 10 of 17]\",\"description\":\"Maj. Gen. Pete Hronek, the Adjutant General of Montana, presents Brynn Mortieau a plaque recognizing her selection as Child and Youth Program Volunteer of the Year for fiscal year 2021 at a ceremony held on the Montana State University campus October 19.\",\"url\":\"https:\\/\\/www.dvidshub.net\\/image\\/7492958\\/montana-national-guard-volunteers-receive-national-awards\",\"source\":\"dvidshub\",\"image\":\"https:\\/\\/cdn.dvidshub.net\\/media\\/thumbs\\/photos\\/2211\\/7492958\\/200x250_q75.jpg\",\"category\":\"general\",\"language\":\"en\",\"country\":\"us\",\"published_at\":\"2022-11-02T23:48:40+00:00\"},{\"author\":\"Ross Cristantiello\",\"title\":\"In Boston, Kamala Harris announces new initiatives to lower energy bills\",\"description\":\"\\u0022By helping families pay the upfront cost for energy efficiency upgrades to their homes, we are also lowering energy bills, bringing down household costs, creating jobs, and fighting the climate crisis.\\u0022The post In Boston, Kamala Harris announces new initiatives to lower energy bills appeared first on Boston.com.\",\"url\":\"https:\\/\\/www.boston.com\\/news\\/politics\\/2022\\/11\\/02\\/boston-kamala-harris-new-initiatives-lower-energy-bills\\/\",\"source\":\"boston\",\"image\":\"https:\\/\\/www.boston.com\\/wp-content\\/themes\\/bdc-2020\\/images\\/tease-defaults\\/fallback-tease-image-4x3-medium.png\",\"category\":\"general\",\"language\":\"en\",\"country\":\"us\",\"published_at\":\"2022-11-02T23:48:37+00:00\"},{\"author\":\"Amanda Lojewski\",\"title\":\"FGCU construction management program receives $2.5 million grant after Hurricane Ian\",\"description\":\"What started from a growing need to develop high-quality construction workers, is now a dire need in our community as it recovers from Hurricane Ian.The post FGCU construction management program receives $2.5 million grant after Hurricane Ian appeared first on ABC7 Southwest Florida.\",\"url\":\"https:\\/\\/abc-7.com\\/news\\/local\\/2022\\/11\\/02\\/fgcu-construction-management-program-receives-2-5-million-grant-after-hurricane-ian\\/\",\"source\":\"abc-7\",\"image\":null,\"category\":\"general\",\"language\":\"en\",\"country\":\"us\",\"published_at\":\"2022-11-02T23:48:34+00:00\"},{\"author\":\"Master Sgt. Michael Touchette\",\"title\":\"Montana National Guard volunteers receive national awards [Image 11 of 17]\",\"description\":\"Maj. Gen. Pete Hronek, the Adjutant General of Montana, presents Gracie Leiva his challenge coin, recognizing her selection as Youth Volunteer of the Year for fiscal year 2021 at a ceremony held on the Montana State University campus October 19.\",\"url\":\"https:\\/\\/www.dvidshub.net\\/image\\/7492959\\/montana-national-guard-volunteers-receive-national-awards\",\"source\":\"dvidshub\",\"image\":\"https:\\/\\/cdn.dvidshub.net\\/media\\/thumbs\\/photos\\/2211\\/7492959\\/250x167_q75.jpg\",\"category\":\"general\",\"language\":\"en\",\"country\":\"us\",\"published_at\":\"2022-11-02T23:48:23+00:00\"},{\"author\":\"Master Sgt. Michael Touchette\",\"title\":\"Montana National Guard volunteers receive national awards [Image 12 of 17]\",\"description\":\"Maj. Gen. Pete Hronek, the Adjutant General of Montana, presents Brynn Mortieau a plaque recognizing her selection as Child and Youth Program Volunteer of the Year for fiscal year 2021 at a ceremony held on the Montana State University campus October 19.\",\"url\":\"https:\\/\\/www.dvidshub.net\\/image\\/7492960\\/montana-national-guard-volunteers-receive-national-awards\",\"source\":\"dvidshub\",\"image\":\"https:\\/\\/cdn.dvidshub.net\\/media\\/thumbs\\/photos\\/2211\\/7492960\\/250x200_q75.jpg\",\"category\":\"general\",\"language\":\"en\",\"country\":\"us\",\"published_at\":\"2022-11-02T23:48:20+00:00\"},{\"author\":\"Master Sgt. Michael Touchette\",\"title\":\"Montana National Guard volunteers receive national awards [Image 13 of 17]\",\"description\":\"Maj. Gen. Pete Hronek, the Adjutant General of Montana, presents Brynn Mortieau his challenge coin in recognition of her selection as Child and Youth Program Volunteer of the Year for fiscal year 2021 at a ceremony held on the Montana State University campus October 19.\",\"url\":\"https:\\/\\/www.dvidshub.net\\/image\\/7492961\\/montana-national-guard-volunteers-receive-national-awards\",\"source\":\"dvidshub\",\"image\":\"https:\\/\\/cdn.dvidshub.net\\/media\\/thumbs\\/photos\\/2211\\/7492961\\/250x200_q75.jpg\",\"category\":\"general\",\"language\":\"en\",\"country\":\"us\",\"published_at\":\"2022-11-02T23:48:10+00:00\"},{\"author\":\"Cayla Bamberger, Susan Edelman\",\"title\":\"NYC teachers union holds \\u2018astonishing\\u2019 vote of no confidence against schools official\",\"description\":\"\\u0022Our school system\\u0027s early childhood education program, until recently considered the pre-eminent program of its kind in the country, is being dismantled before our eyes.\\u0022\",\"url\":\"https:\\/\\/nypost.com\\/2022\\/11\\/02\\/nyc-teachers-union-holds-astonishing-vote-of-no-confidence-against-schools-official\\/\",\"source\":\"Post\",\"image\":\"https:\\/\\/nypost.com\\/wp-content\\/uploads\\/sites\\/2\\/2022\\/11\\/newspress-collage-24499290-1667431677820.jpg?quality=90\\u0026strip=all\\u00261667417345\",\"category\":\"general\",\"language\":\"en\",\"country\":\"zm\",\"published_at\":\"2022-11-02T23:48:10+00:00\"},{\"author\":\"Master Sgt. Michael Touchette\",\"title\":\"Montana National Guard volunteers receive national awards [Image 14 of 17]\",\"description\":\"Brynn Mortieau poses for a group photo after being recognized for her selection as Child and Youth Program Volunteer of the Year for fiscal year 2021 at a ceremony held on the Montana State University campus October 19.\",\"url\":\"https:\\/\\/www.dvidshub.net\\/image\\/7492962\\/montana-national-guard-volunteers-receive-national-awards\",\"source\":\"dvidshub\",\"image\":\"https:\\/\\/cdn.dvidshub.net\\/media\\/thumbs\\/photos\\/2211\\/7492962\\/250x200_q75.jpg\",\"category\":\"general\",\"language\":\"en\",\"country\":\"us\",\"published_at\":\"2022-11-02T23:48:08+00:00\"},{\"author\":\"Master Sgt. Michael Touchette\",\"title\":\"Montana National Guard volunteers receive national awards [Image 15 of 17]\",\"description\":\"Gracie Leiva poses for a group photo after being recognized for her selection as Youth Volunteer of the Year for fiscal year 2021 at a ceremony held on the Montana State University campus October 19.\",\"url\":\"https:\\/\\/www.dvidshub.net\\/image\\/7492963\\/montana-national-guard-volunteers-receive-national-awards\",\"source\":\"dvidshub\",\"image\":\"https:\\/\\/cdn.dvidshub.net\\/media\\/thumbs\\/photos\\/2211\\/7492963\\/250x200_q75.jpg\",\"category\":\"general\",\"language\":\"en\",\"country\":\"us\",\"published_at\":\"2022-11-02T23:48:07+00:00\"},{\"author\":\"Master Sgt. Michael Touchette\",\"title\":\"Montana National Guard volunteers receive national awards [Image 16 of 17]\",\"description\":\"Child and Youth Program Volunteer of the year for fiscal year 2021 Brynn Mortieau shoots photos from the window of a UH-60 Blackhawk helicopter during her incentive flight following an awards ceremony on the campus of the Montana State University October 19.\",\"url\":\"https:\\/\\/www.dvidshub.net\\/image\\/7492964\\/montana-national-guard-volunteers-receive-national-awards\",\"source\":\"dvidshub\",\"image\":\"https:\\/\\/cdn.dvidshub.net\\/media\\/thumbs\\/photos\\/2211\\/7492964\\/250x200_q75.jpg\",\"category\":\"general\",\"language\":\"en\",\"country\":\"us\",\"published_at\":\"2022-11-02T23:48:06+00:00\"},{\"author\":\"Master Sgt. Michael Touchette\",\"title\":\"Montana National Guard volunteers receive national awards [Image 17 of 17]\",\"description\":\"Gracie Leiva, Youth Volunteer of the Year for fiscal year 2021, prepares to take off during her incentive flight in a UH-60 Blackhawk helicopter from the Montana State University campus October 19.\",\"url\":\"https:\\/\\/www.dvidshub.net\\/image\\/7492965\\/montana-national-guard-volunteers-receive-national-awards\",\"source\":\"dvidshub\",\"image\":\"https:\\/\\/cdn.dvidshub.net\\/media\\/thumbs\\/photos\\/2211\\/7492965\\/250x250_q75.jpg\",\"category\":\"general\",\"language\":\"en\",\"country\":\"us\",\"published_at\":\"2022-11-02T23:48:03+00:00\"},{\"author\":\"Anuja Kamatkar and Allie Tremulis\",\"title\":\"Carlmont Choir overcomes difficulties to shine\",\"description\":\"Carlmont Choir worked together to create a memorable performance despite challenges regarding the absence of their choir director, Genevive Tep. The Cabaret show, which runs annually, is mostly student-led, featuring solo artists and small ensembles. Performers choose their own music, as long as it adheres to the general theme, and they learn it on their...\",\"url\":\"https:\\/\\/scotscoop.com\\/carlmont-choir-overcomes-difficulties-to-shine\\/\",\"source\":\"scotscoop\",\"image\":null,\"category\":\"general\",\"language\":\"en\",\"country\":\"us\",\"published_at\":\"2022-11-02T23:48:02+00:00\"},{\"author\":\"Wendy Osher\",\"title\":\"Fleetwood\\u2019s on Front St. reopening for lunch\",\"description\":\"Fleetwood\\u2019s on Front St. will reopen for lunch on Nov. 16, 2022 for the first time since the pandemic onset. Lunch on the famous Fleetwood\\u2019s Rooftop will feature a new menu with Fleetwood\\u2019s favorites, just in time for whale watching.\",\"url\":\"https:\\/\\/mauinow.com\\/2022\\/11\\/02\\/fleetwoods-on-front-st-reopening-for-lunch\\/\",\"source\":\"mauinow\",\"image\":\"https:\\/\\/media.mauinow.com\\/file\\/mauinow\\/2022\\/11\\/fleetwoods-3-300x200.jpeg\",\"category\":\"general\",\"language\":\"en\",\"country\":\"us\",\"published_at\":\"2022-11-02T23:47:54+00:00\"},{\"author\":\"Tribune News Service\",\"title\":\"Chris Perkins: Dolphins\\u2019 Tua talks about Super Bowl, takes shot at critics \\u2014 this is what you want to hear from your QB\",\"description\":\"Empowered Dolphins quarterback Tua Tagovailoa was an interesting mix of honesty, insight, and\\u0026#8220; screw you\\u0026#8221; on the podium Wednesday. Tagovailoa addressed the Super Bowl talk head on, and took an entertaining shot at critics who doubted whether he could effectively throw the deep ball. In between he talked about the Chicago Bears, who happen to be the Dolphins...\",\"url\":\"https:\\/\\/www.twincities.com\\/2022\\/11\\/02\\/chris-perkins-dolphins-tua-talks-about-super-bowl-takes-shot-at-critics-this-is-what-you-want-to-hear-from-your-qb\\/\",\"source\":\"twincities\",\"image\":\"https:\\/\\/www.twincities.com\\/wp-content\\/uploads\\/2022\\/11\\/202211021822TMS_____MNGTRPUB_SPORTS-CHRIS-PERKINS-TUA-TALKS-ABOUT-SUPER-1-FL5.jpg?w=1400px\\u0026strip=all\",\"category\":\"general\",\"language\":\"en\",\"country\":\"us\",\"published_at\":\"2022-11-02T23:47:50+00:00\"},{\"author\":\"Master Sgt. Michael Touchette\",\"title\":\"Montana National Guard volunteers receive national awards\",\"description\":\"Two Montana National Guard Youth Program volunteers were presented with national-level awards by Maj. Gen. Pete Hronek, the Adjutant General of Montana, at a ceremony held on the Montana State University campus October 19.\",\"url\":\"https:\\/\\/www.dvidshub.net\\/news\\/432532\\/montana-national-guard-volunteers-receive-national-awards\",\"source\":\"dvidshub\",\"image\":\"https:\\/\\/cdn.dvidshub.net\\/media\\/thumbs\\/photos\\/2211\\/7492965\\/250x250_q75.jpg\",\"category\":\"general\",\"language\":\"en\",\"country\":\"us\",\"published_at\":\"2022-11-02T23:47:48+00:00\"},{\"author\":\"Tribune News Service\",\"title\":\"Chris Perkins: Dolphins\\u2019 Tua talks about Super Bowl, takes shot at critics \\u2014 this is what you want to hear from your QB\",\"description\":\"Empowered Dolphins quarterback Tua Tagovailoa was an interesting mix of honesty, insight, and\\u0026#8220; screw you\\u0026#8221; on the podium Wednesday. Tagovailoa addressed the Super Bowl talk head on, and took an entertaining shot at critics who doubted whether he could effectively throw the deep ball. In between he talked about the Chicago Bears, who happen to be the Dolphins...\",\"url\":\"https:\\/\\/www.denverpost.com\\/2022\\/11\\/02\\/chris-perkins-dolphins-tua-talks-about-super-bowl-takes-shot-at-critics-this-is-what-you-want-to-hear-from-your-qb\\/\",\"source\":\"photos\",\"image\":\"https:\\/\\/www.denverpost.com\\/wp-content\\/uploads\\/2022\\/11\\/202211021822TMS_____MNGTRPUB_SPORTS-CHRIS-PERKINS-TUA-TALKS-ABOUT-SUPER-1-FL5.jpg?w=1400px\\u0026strip=all\",\"category\":\"general\",\"language\":\"en\",\"country\":\"us\",\"published_at\":\"2022-11-02T23:47:46+00:00\"},{\"author\":\"Tribune News Service\",\"title\":\"Chris Perkins: Dolphins\\u2019 Tua talks about Super Bowl, takes shot at critics \\u2014 this is what you want to hear from your QB\",\"description\":\"Empowered Dolphins quarterback Tua Tagovailoa was an interesting mix of honesty, insight, and\\u0026#8220; screw you\\u0026#8221; on the podium Wednesday. Tagovailoa addressed the Super Bowl talk head on, and took an entertaining shot at critics who doubted whether he could effectively throw the deep ball. In between he talked about the Chicago Bears, who happen to be the Dolphins...\",\"url\":\"https:\\/\\/www.mercurynews.com\\/2022\\/11\\/02\\/chris-perkins-dolphins-tua-talks-about-super-bowl-takes-shot-at-critics-this-is-what-you-want-to-hear-from-your-qb\\/\",\"source\":\"mercurynews\",\"image\":\"https:\\/\\/www.mercurynews.com\\/wp-content\\/uploads\\/2022\\/11\\/202211021822TMS_____MNGTRPUB_SPORTS-CHRIS-PERKINS-TUA-TALKS-ABOUT-SUPER-1-FL5.jpg?w=1400px\\u0026strip=all\",\"category\":\"general\",\"language\":\"en\",\"country\":\"us\",\"published_at\":\"2022-11-02T23:47:33+00:00\"},{\"author\":\"Master Sgt. Michael Touchette\",\"title\":\"Montana National Guard volunteers receive national awards [Image 7 of 17]\",\"description\":\"Two Montana National Guard Youth Program volunteers are presentedwith national-level awards by Maj. Gen. Pete Hronek, the Adjutant General of Montana. Gracie Leiva was selected as Youth Volunteer of the Year and Brynn Mortieau was selected as the Child and Youth Program Volunteer of the year for fiscal year 2021 by National Guard Bureau.\",\"url\":\"https:\\/\\/www.dvidshub.net\\/image\\/7492955\\/montana-national-guard-volunteers-receive-national-awards\",\"source\":\"dvidshub\",\"image\":\"https:\\/\\/cdn.dvidshub.net\\/media\\/thumbs\\/photos\\/2211\\/7492955\\/250x200_q75.jpg\",\"category\":\"general\",\"language\":\"en\",\"country\":\"us\",\"published_at\":\"2022-11-02T23:47:33+00:00\"},{\"author\":\"Tribune News Service\",\"title\":\"Chris Perkins: Dolphins\\u2019 Tua talks about Super Bowl, takes shot at critics \\u2014 this is what you want to hear from your QB\",\"description\":\"Empowered Dolphins quarterback Tua Tagovailoa was an interesting mix of honesty, insight, and\\u0026#8220; screw you\\u0026#8221; on the podium Wednesday. Tagovailoa addressed the Super Bowl talk head on, and took an entertaining shot at critics who doubted whether he could effectively throw the deep ball. In between he talked about the Chicago Bears, who happen to be the Dolphins...\",\"url\":\"https:\\/\\/www.bostonherald.com\\/2022\\/11\\/02\\/chris-perkins-dolphins-tua-talks-about-super-bowl-takes-shot-at-critics-this-is-what-you-want-to-hear-from-your-qb\\/\",\"source\":\"bostonherald\",\"image\":\"https:\\/\\/www.bostonherald.com\\/wp-content\\/uploads\\/2022\\/11\\/202211021822TMS_____MNGTRPUB_SPORTS-CHRIS-PERKINS-TUA-TALKS-ABOUT-SUPER-1-FL5.jpg?w=1400px\\u0026strip=all\",\"category\":\"general\",\"language\":\"en\",\"country\":\"us\",\"published_at\":\"2022-11-02T23:47:25+00:00\"},{\"author\":\"Parul\",\"title\":\"Snack Drawer Bolsters Team With Three New Hires In Melbourne\",\"description\":\"Internet-first creative agency Snack Drawer has continued its talent acquisition roll, announcing three new appointments...\",\"url\":\"https:\\/\\/www.bandt.com.au\\/snack-drawer-bolsters-team-with-three-new-hires-in-melbourne\\/\",\"source\":\"bandt\",\"image\":\"https:\\/\\/www.bandt.com.au\\/information\\/uploads\\/2022\\/11\\/Snack-Drawer-Melbourne_November_2022-Steph-Grapsas-Eliza-Bone-and-Reyann-Khalil-230x153.png\",\"category\":\"general\",\"language\":\"en\",\"country\":\"au\",\"published_at\":\"2022-11-02T23:46:59+00:00\"},{\"author\":null,\"title\":\"AC Milan, Leipzig take final last-16 places in Champions League\",\"description\":\"AC Milan reached the Champions League knock-out stage for the first time in nine years on Wednesday with a 4-0 victory over Salzburg, while RB Leipzig also qualified\\u2026\",\"url\":\"https:\\/\\/japantoday.com\\/category\\/sports\\/ac-milan-leipzig-take-final-last-16-places-as-psg-lose-top-spot\",\"source\":\"japantoday\",\"image\":null,\"category\":\"general\",\"language\":\"en\",\"country\":\"us\",\"published_at\":\"2022-11-02T23:46:57+00:00\"}]}\n"
     ]
    }
   ],
   "source": [
    "ACCESS_KEY = '243247ebaf607124b6b062d06e319452'\n",
    "\n",
    "conn = http.client.HTTPConnection('api.mediastack.com')\n",
    "\n",
    "params = urllib.parse.urlencode({\n",
    "    'access_key': ACCESS_KEY,\n",
    "    'languages' : 'en',\n",
    "    'limit' : '100',\n",
    "    'date' : parsed_date,\n",
    "    'categories' : category.value,\n",
    "    'keywords' : fill.value,\n",
    "    'sources' : source.value,\n",
    "    'sort' : 'published_desc'\n",
    "    })\n",
    "\n",
    "conn.request('GET', '/v1/news?{}'.format(params))\n",
    "\n",
    "res = conn.getresponse()\n",
    "data = res.read()\n",
    "\n",
    "print(data.decode('utf-8'))"
   ]
  },
  {
   "cell_type": "code",
   "execution_count": 106,
   "id": "cce748ee",
   "metadata": {},
   "outputs": [],
   "source": [
    "dict_data = json.loads(data.decode('utf-8'))"
   ]
  },
  {
   "cell_type": "code",
   "execution_count": 107,
   "id": "67ecdefd",
   "metadata": {},
   "outputs": [],
   "source": [
    "if(dict_data['pagination']['count'] != 0):\n",
    "    df = pd.DataFrame()\n",
    "    for x in dict_data['data']:\n",
    "        df = df.append(x, ignore_index=True)\n",
    "    \n",
    "elif (dict_data['pagination']['count'] == 0):\n",
    "    print(\"Cancel\")"
   ]
  },
  {
   "cell_type": "code",
   "execution_count": 108,
   "id": "b012b8c0",
   "metadata": {},
   "outputs": [],
   "source": [
    "title_df = df['title']"
   ]
  },
  {
   "cell_type": "code",
   "execution_count": 109,
   "id": "3b783b25",
   "metadata": {},
   "outputs": [
    {
     "data": {
      "text/plain": [
       "0     Three Chinese companies ordered to divest as O...\n",
       "1     M&#257;ori communities criticise lack of consu...\n",
       "2     Michigan man gets 70 to 100 years for hammer m...\n",
       "3     San Diego sax great Anthony Ortega, dead at 94...\n",
       "4     Estas son todas las propuestas iberoamericanas...\n",
       "                            ...                        \n",
       "95    Chris Perkins: Dolphins’ Tua talks about Super...\n",
       "96    Montana National Guard volunteers receive nati...\n",
       "97    Chris Perkins: Dolphins’ Tua talks about Super...\n",
       "98    Snack Drawer Bolsters Team With Three New Hire...\n",
       "99    AC Milan, Leipzig take final last-16 places in...\n",
       "Name: title, Length: 100, dtype: object"
      ]
     },
     "execution_count": 109,
     "metadata": {},
     "output_type": "execute_result"
    }
   ],
   "source": [
    "title_df"
   ]
  },
  {
   "cell_type": "code",
   "execution_count": null,
   "id": "5b5b5afa",
   "metadata": {},
   "outputs": [],
   "source": []
  }
 ],
 "metadata": {
  "kernelspec": {
   "display_name": "Python 3 (ipykernel)",
   "language": "python",
   "name": "python3"
  },
  "language_info": {
   "codemirror_mode": {
    "name": "ipython",
    "version": 3
   },
   "file_extension": ".py",
   "mimetype": "text/x-python",
   "name": "python",
   "nbconvert_exporter": "python",
   "pygments_lexer": "ipython3",
   "version": "3.9.12"
  }
 },
 "nbformat": 4,
 "nbformat_minor": 5
}
